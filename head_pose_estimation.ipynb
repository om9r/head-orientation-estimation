{
 "cells": [
  {
   "cell_type": "code",
   "execution_count": 1,
   "id": "95ab2b6c",
   "metadata": {},
   "outputs": [],
   "source": [
    "import os\n",
    "import dlib\n",
    "import cv2\n",
    "import numpy as np"
   ]
  },
  {
   "cell_type": "markdown",
   "id": "4ce804c6",
   "metadata": {},
   "source": [
    "##   Initialising Dlib Predictor"
   ]
  },
  {
   "cell_type": "code",
   "execution_count": 2,
   "id": "c8cea26c",
   "metadata": {},
   "outputs": [],
   "source": [
    "predictor_path = \"shape_predictor_68_face_landmarks.dat\"\n",
    "detector = dlib.get_frontal_face_detector()\n",
    "predictor = dlib.shape_predictor(predictor_path)"
   ]
  },
  {
   "cell_type": "markdown",
   "id": "b265157e",
   "metadata": {},
   "source": [
    "## Model Points for a 3D Face"
   ]
  },
  {
   "cell_type": "code",
   "execution_count": 6,
   "id": "435ee08f",
   "metadata": {},
   "outputs": [],
   "source": [
    "model_points = np.array([\n",
    "    (0.0, 0.0, 0.0),             # Nose tip\n",
    "    (0.0, -330.0, -65.0),        # Chin\n",
    "    (-225.0, 170.0, -135.0),     # Left eye left corner\n",
    "    (225.0, 170.0, -135.0),    # Right eye right corner\n",
    "    (-150.0, -150.0, -125.0),    # Left Mouth corner\n",
    "    (150.0, -150.0, -125.0)     # Right mouth corner\n",
    "], dtype=np.float64)     "
   ]
  },
  {
   "cell_type": "markdown",
   "id": "26a9aa21",
   "metadata": {},
   "source": [
    "## Auto Rotate the Image if its Rotated"
   ]
  },
  {
   "cell_type": "code",
   "execution_count": 7,
   "id": "bfff7d31",
   "metadata": {},
   "outputs": [],
   "source": [
    "def rotate_image(image, angle):\n",
    "    if angle == 0:\n",
    "        return image\n",
    "    elif angle == 90:\n",
    "        return cv2.rotate(image, cv2.ROTATE_90_CLOCKWISE)\n",
    "    elif angle == 180:\n",
    "        return cv2.rotate(image, cv2.ROTATE_180)\n",
    "    elif angle == 270:\n",
    "        return cv2.rotate(image, cv2.ROTATE_90_COUNTERCLOCKWISE)\n",
    "    else:\n",
    "        raise ValueError(\"Angle must be 0, 90, 180, or 270\")\n"
   ]
  },
  {
   "cell_type": "markdown",
   "id": "19f0ff54",
   "metadata": {},
   "source": [
    "## Get the 2D image coordinates from facial landmarks"
   ]
  },
  {
   "cell_type": "code",
   "execution_count": 8,
   "id": "3d70ab0b",
   "metadata": {},
   "outputs": [],
   "source": [
    "def get_image_points(shape):\n",
    "    \n",
    "    return np.array([\n",
    "        (shape.part(30).x, shape.part(30).y),     # Nose tip\n",
    "        (shape.part(8).x, shape.part(8).y),       # Chin\n",
    "        (shape.part(36).x, shape.part(36).y),     # Left eye left corner\n",
    "        (shape.part(45).x, shape.part(45).y),     # Right eye right corner\n",
    "        (shape.part(48).x, shape.part(48).y),     # Left Mouth corner\n",
    "        (shape.part(54).x, shape.part(54).y)      # Right mouth corner\n",
    "    ], dtype=\"double\")\n",
    "\n",
    "def draw_axes(img, rotation_vector, translation_vector, camera_matrix, dist_coeffs, nose_point):\n",
    "    axis_length = 100\n",
    "    axes_3D = np.float32([\n",
    "        [axis_length, 0, 0],  # X - Red\n",
    "        [0, axis_length, 0],  # Y - Green\n",
    "        [0, 0, axis_length]   # Z - Blue\n",
    "    ]).reshape(-1, 3)\n",
    "\n",
    "    imgpts, _ = cv2.projectPoints(axes_3D, rotation_vector, translation_vector, camera_matrix, dist_coeffs)\n",
    "    imgpts = np.int32(imgpts).reshape(-1, 2)\n",
    "\n",
    "    origin = tuple(int(x) for x in nose_point)\n",
    "    cv2.line(img, origin, tuple(imgpts[0]), (0, 0, 255), 3)  # X-axis\n",
    "    cv2.line(img, origin, tuple(imgpts[1]), (0, 255, 0), 3)  # Y-axis\n",
    "    cv2.line(img, origin, tuple(imgpts[2]), (255, 0, 0), 3)  # Z-axis\n"
   ]
  },
  {
   "cell_type": "code",
   "execution_count": null,
   "id": "fafcdf9c",
   "metadata": {},
   "outputs": [],
   "source": []
  },
  {
   "cell_type": "code",
   "execution_count": 9,
   "id": "4892a6d2",
   "metadata": {},
   "outputs": [],
   "source": [
    "\n",
    "def get_yaw_pitch_roll(image_path):\n",
    "      \n",
    "    # Load image\n",
    "    image = cv2.imread(image_path)\n",
    "    if image is None:\n",
    "        raise FileNotFoundError(\"Image not found.\")\n",
    "\n",
    "    try:\n",
    "\n",
    "        gray = cv2.cvtColor(image, cv2.COLOR_BGR2GRAY) # Dlib needs gray images\n",
    "\n",
    "        # Detect faces\n",
    "        faces = detector(gray)\n",
    "        if len(faces) == 0:\n",
    "            print(\"No face detected.\")\n",
    "            return \"\",\"No Landmarks\",None,None,None\n",
    "\n",
    "        if len(faces)>1:\n",
    "            print(\"More than one face detected.\")\n",
    "            \n",
    "            \n",
    "        # Use the first detected face\n",
    "        faces = sorted(faces, key=lambda r: r.width() * r.height(), reverse=True)\n",
    "\n",
    "        face = faces[0]\n",
    "        landmarks = predictor(gray, face)\n",
    "\n",
    "        # 2D image points\n",
    "        image_points = get_image_points(landmarks)\n",
    "        # image_points = np.array([\n",
    "        #     (landmarks.part(30).x, landmarks.part(30).y),  # Nose tip\n",
    "        #     (landmarks.part(8).x, landmarks.part(8).y),    # Chin\n",
    "        #     (landmarks.part(36).x, landmarks.part(36).y),  # Left eye left corner\n",
    "        #     (landmarks.part(45).x, landmarks.part(45).y),  # Right eye right corner\n",
    "        #     (landmarks.part(48).x, landmarks.part(48).y),  # Left mouth corner\n",
    "        #     (landmarks.part(54).x, landmarks.part(54).y)   # Right mouth corner\n",
    "        # ], dtype=\"double\")\n",
    "\n",
    "\n",
    "        # Camera internals\n",
    "        height, width = image.shape[:2]\n",
    "        focal_length = width\n",
    "        center = (width / 2, height / 2)\n",
    "        camera_matrix = np.array([\n",
    "            [focal_length, 0, center[0]],\n",
    "            [0, focal_length, center[1]],\n",
    "            [0, 0, 1]\n",
    "        ], dtype=\"double\")\n",
    "\n",
    "        dist_coeffs = np.zeros((4, 1))  # Assuming no distortion\n",
    "\n",
    "        # Solve PnP\n",
    "        success, rotation_vector, translation_vector = cv2.solvePnP(\n",
    "            model_points, image_points, camera_matrix, dist_coeffs\n",
    "        )\n",
    "\n",
    "        if not success:\n",
    "            print(\"PnP solution failed.\")\n",
    "            return None, None, None\n",
    "\n",
    "\n",
    "        # Convert rotation vector to matrix\n",
    "        rotation_matrix, _ = cv2.Rodrigues(rotation_vector)\n",
    "\n",
    "        # Compose pose matrix\n",
    "        pose_matrix = np.hstack((rotation_matrix, translation_vector))\n",
    "\n",
    "        # Decompose to Euler angles\n",
    "        _, _, _, _, _, _, euler_angles = cv2.decomposeProjectionMatrix(pose_matrix)\n",
    "\n",
    "        pitch, yaw, roll = [abs(float(angle)) for angle in euler_angles]\n",
    "\n",
    "        # pitch, yaw, roll = euler_angles.flatten()\n",
    "        # pitch, yaw, roll = abs(pitch), abs(yaw), abs(roll)\n",
    "\n",
    "        # # pitch, yaw, roll = [abs(float(angle)) for angle in euler_angles]\n",
    "        # pitch = abs(np.degrees(pitch))\n",
    "        # yaw = abs(np.degrees(yaw))\n",
    "        # roll = abs(np.degrees(roll))\n",
    "\n",
    "        if pitch>100:\n",
    "            pitch = 180 - pitch\n",
    "        if yaw>100:\n",
    "            yaw = 180 - yaw\n",
    "        if roll>100:\n",
    "            roll = 180 - roll\n",
    "\n",
    "        # Display results\n",
    "        print(f\"Yaw: {yaw:.2f}°\")\n",
    "        print(f\"Pitch: {pitch:.2f}°\")\n",
    "        print(f\"Roll: {roll:.2f}°\")\n",
    "\n",
    "        \n",
    "        return pitch,yaw,roll\n",
    "        \n",
    "    except Exception as e:\n",
    "        print(f\"Error : {e}\")\n",
    "        return None,None,None"
   ]
  },
  {
   "cell_type": "code",
   "execution_count": 10,
   "id": "68ae0b8c",
   "metadata": {},
   "outputs": [
    {
     "name": "stdout",
     "output_type": "stream",
     "text": [
      "Yaw: 2.91°\n",
      "Pitch: 0.67°\n",
      "Roll: 2.20°\n"
     ]
    },
    {
     "name": "stderr",
     "output_type": "stream",
     "text": [
      "/var/folders/9y/wvqwglpd2kn80kp48cpw_g7w0000gn/T/ipykernel_45166/1288215083.py:71: DeprecationWarning: Conversion of an array with ndim > 0 to a scalar is deprecated, and will error in future. Ensure you extract a single element from your array before performing this operation. (Deprecated NumPy 1.25.)\n",
      "  pitch, yaw, roll = [abs(float(angle)) for angle in euler_angles]\n"
     ]
    },
    {
     "data": {
      "text/plain": [
       "(0.673810942301543, 2.9054339844164088, 2.2036180075887573)"
      ]
     },
     "execution_count": 10,
     "metadata": {},
     "output_type": "execute_result"
    }
   ],
   "source": [
    "image_path = \"BruceLee.jpg\"\n",
    "get_yaw_pitch_roll(image_path)"
   ]
  },
  {
   "cell_type": "code",
   "execution_count": null,
   "id": "63c5bbaa",
   "metadata": {},
   "outputs": [],
   "source": []
  }
 ],
 "metadata": {
  "kernelspec": {
   "display_name": "dlib_env",
   "language": "python",
   "name": "python3"
  },
  "language_info": {
   "codemirror_mode": {
    "name": "ipython",
    "version": 3
   },
   "file_extension": ".py",
   "mimetype": "text/x-python",
   "name": "python",
   "nbconvert_exporter": "python",
   "pygments_lexer": "ipython3",
   "version": "3.13.5"
  }
 },
 "nbformat": 4,
 "nbformat_minor": 5
}
